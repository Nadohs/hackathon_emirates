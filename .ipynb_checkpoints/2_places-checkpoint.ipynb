{
 "cells": [
  {
   "cell_type": "code",
   "execution_count": 1,
   "metadata": {},
   "outputs": [],
   "source": [
    "import numpy as np\n",
    "import pandas as pd\n",
    "import datetime as dt\n",
    "# import matplotlib.pyplot as plt\n",
    "#[]\n",
    "cols = ['ORIG','DEST','SALE_STR_DATE','TRAVEL_STR_DATE','SEASON_STR_DATE','DOW','MIN_STAY_UNIT','MIN_STAY_VAL','MAX_STAY_UNIT',\n",
    "        'MAX_STAY_VAL','AP_UNIT','AP_VALUE','RBD','FAREAMT_BC']\n",
    "res_col = ['']\n",
    "path = 'test_100000_convered_date.csv'\n",
    "df = pd.read_csv(path, usecols=cols)"
   ]
  },
  {
   "cell_type": "code",
   "execution_count": 2,
   "metadata": {},
   "outputs": [],
   "source": [
    "\n",
    "place_to_int = dict()\n",
    "int_to_place = dict()\n",
    "            \n",
    "def create_dictionary(features):\n",
    "    global place_to_int, int_to_place\n",
    "    unique = set()\n",
    "    for feature in features:\n",
    "        for i in range(df[feature].size):\n",
    "            unique.add(df.loc[i,feature])\n",
    "    place_to_int = {val:i for i, val in enumerate(unique)}\n",
    "    int_to_place = dict(enumerate(unique))\n",
    "    print(unique)\n",
    "    print(place_to_int['ORL'])\n",
    "    print(int_to_place[15])\n",
    "            \n",
    "def convert_to_int(features):\n",
    "    for feature in features:\n",
    "        for i in range(df[feature].size):\n",
    "            cur = df.loc[i,feature]\n",
    "            if cur is int:\n",
    "                assert(\"cur is already number\")\n",
    "            df.loc[i, feature] = place_to_int[cur]"
   ]
  },
  {
   "cell_type": "code",
   "execution_count": null,
   "metadata": {},
   "outputs": [],
   "source": [
    "create_dictionary(['ORIG','DEST'])\n",
    "print(place_to_int)"
   ]
  },
  {
   "cell_type": "code",
   "execution_count": null,
   "metadata": {},
   "outputs": [],
   "source": [
    "create_dictionary(['ORIG','DEST'])\n",
    "convert_to_int(['ORIG','DEST'])"
   ]
  },
  {
   "cell_type": "code",
   "execution_count": null,
   "metadata": {},
   "outputs": [],
   "source": [
    "df.head()"
   ]
  },
  {
   "cell_type": "code",
   "execution_count": null,
   "metadata": {},
   "outputs": [],
   "source": [
    "df.to_csv('test_100000_convered_places.csv')"
   ]
  },
  {
   "cell_type": "code",
   "execution_count": null,
   "metadata": {
    "collapsed": true
   },
   "outputs": [],
   "source": []
  }
 ],
 "metadata": {
  "kernelspec": {
   "display_name": "Python 2",
   "language": "python",
   "name": "python2"
  },
  "language_info": {
   "codemirror_mode": {
    "name": "ipython",
    "version": 2
   },
   "file_extension": ".py",
   "mimetype": "text/x-python",
   "name": "python",
   "nbconvert_exporter": "python",
   "pygments_lexer": "ipython2",
   "version": "2.7.12"
  }
 },
 "nbformat": 4,
 "nbformat_minor": 2
}
