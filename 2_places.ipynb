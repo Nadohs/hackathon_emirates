{
 "cells": [
  {
   "cell_type": "code",
   "execution_count": 1,
   "metadata": {},
   "outputs": [],
   "source": [
    "import numpy as np\n",
    "import pandas as pd\n",
    "import datetime as dt\n",
    "# import matplotlib.pyplot as plt\n",
    "#[]\n",
    "cols = ['ORIG','DEST','SALE_STR_DATE','TRAVEL_STR_DATE','SEASON_STR_DATE','DOW','MIN_STAY_UNIT','MIN_STAY_VAL','MAX_STAY_UNIT',\n",
    "        'MAX_STAY_VAL','AP_UNIT','AP_VALUE','RBD','FAREAMT_BC']\n",
    "res_col = ['']\n",
    "path = 'test_100000_convered_date.csv'\n",
    "df = pd.read_csv(path, usecols=cols)"
   ]
  },
  {
   "cell_type": "code",
   "execution_count": 2,
   "metadata": {},
   "outputs": [],
   "source": [
    "\n",
    "place_to_int = dict()\n",
    "int_to_place = dict()\n",
    "            \n",
    "def create_dictionary(features):\n",
    "    global place_to_int, int_to_place\n",
    "    unique = set()\n",
    "    for feature in features:\n",
    "        for i in range(df[feature].size):\n",
    "            unique.add(df.loc[i,feature])\n",
    "    place_to_int = {val:i for i, val in enumerate(unique)}\n",
    "    int_to_place = dict(enumerate(unique))\n",
    "    print(unique)\n",
    "    print(place_to_int['ORL'])\n",
    "    print(int_to_place[15])\n",
    "            \n",
    "def convert_to_int(features):\n",
    "    for feature in features:\n",
    "        for i in range(df[feature].size):\n",
    "            cur = df.loc[i,feature]\n",
    "            if cur is int:\n",
    "                assert(\"cur is already number\")\n",
    "            df.loc[i, feature] = place_to_int[cur]"
   ]
  },
  {
   "cell_type": "code",
   "execution_count": 3,
   "metadata": {},
   "outputs": [
    {
     "name": "stdout",
     "output_type": "stream",
     "text": [
      "set(['DKR', 'MIL', 'CCU', 'BOS', 'BOM', 'BGW', 'NYC', 'CPT', 'DUR', 'HKT', 'KHI', 'HKG', 'LHE', 'CHC', 'HAN', 'MRU', 'SGN', 'THR', 'HRE', 'BNE', 'SYD', 'LAD', 'MAA', 'JNB', 'LAX', 'SKT', 'CCJ', 'DMM', 'BEY', 'DEL', 'FLL', 'ISB', 'CRK', 'RGN', 'AMM', 'CEB', 'KBL', 'SFO', 'AMD', 'SIN', 'MNL', 'MHD', 'BLR', 'SHA', 'TRV', 'ACC', 'DOH', 'PEW', 'MUX', 'PER', 'IST', 'KUL', 'HYD', 'COK', 'LUN', 'JKT', 'SEZ', 'BSR', 'BKK', 'NBO', 'SEA', 'DFW', 'KRT', 'CMB', 'ADD', 'JED', 'ADL', 'WAS', 'MED', 'RUH', 'MEL', 'ORL', 'BJS', 'DPS', 'LOS', 'CAI', 'CAN', 'BAH', 'DAC', 'KWI', 'DAR', 'CHI', 'MLE', 'ABJ', 'HOU', 'EBB', 'MCT', 'DXB'])\n",
      "71\n",
      "MRU\n",
      "{'DKR': 0, 'MIL': 1, 'CCU': 2, 'BOS': 3, 'BOM': 4, 'BGW': 5, 'NYC': 6, 'CPT': 7, 'SIN': 39, 'HKT': 9, 'KHI': 10, 'HKG': 11, 'LHE': 12, 'CHC': 13, 'HAN': 14, 'MRU': 15, 'THR': 17, 'HRE': 18, 'BNE': 19, 'SYD': 20, 'LAD': 21, 'MAA': 22, 'SFO': 37, 'LAX': 24, 'SKT': 25, 'CCJ': 26, 'DMM': 27, 'BEY': 28, 'DEL': 29, 'FLL': 30, 'ISB': 31, 'CRK': 32, 'RGN': 33, 'AMM': 34, 'CEB': 35, 'KBL': 36, 'JNB': 23, 'AMD': 38, 'MNL': 40, 'MHD': 41, 'BLR': 42, 'SHA': 43, 'TRV': 44, 'ACC': 45, 'DOH': 46, 'PEW': 47, 'MUX': 48, 'PER': 49, 'IST': 50, 'KUL': 51, 'HYD': 52, 'COK': 53, 'LUN': 54, 'JKT': 55, 'SEZ': 56, 'BSR': 57, 'BKK': 58, 'NBO': 59, 'SEA': 60, 'DFW': 61, 'KRT': 62, 'CMB': 63, 'ADD': 64, 'JED': 65, 'DUR': 8, 'WAS': 67, 'MED': 68, 'RUH': 69, 'MEL': 70, 'ORL': 71, 'BJS': 72, 'DPS': 73, 'LOS': 74, 'CAI': 75, 'CAN': 76, 'BAH': 77, 'CHI': 81, 'DAC': 78, 'KWI': 79, 'DAR': 80, 'SGN': 16, 'MLE': 82, 'ABJ': 83, 'ADL': 66, 'HOU': 84, 'EBB': 85, 'MCT': 86, 'DXB': 87}\n"
     ]
    }
   ],
   "source": [
    "create_dictionary(['ORIG','DEST'])\n",
    "print(place_to_int)"
   ]
  },
  {
   "cell_type": "code",
   "execution_count": 4,
   "metadata": {},
   "outputs": [
    {
     "name": "stdout",
     "output_type": "stream",
     "text": [
      "set(['DKR', 'MIL', 'CCU', 'BOS', 'BOM', 'BGW', 'NYC', 'CPT', 'DUR', 'HKT', 'KHI', 'HKG', 'LHE', 'CHC', 'HAN', 'MRU', 'SGN', 'THR', 'HRE', 'BNE', 'SYD', 'LAD', 'MAA', 'JNB', 'LAX', 'SKT', 'CCJ', 'DMM', 'BEY', 'DEL', 'FLL', 'ISB', 'CRK', 'RGN', 'AMM', 'CEB', 'KBL', 'SFO', 'AMD', 'SIN', 'MNL', 'MHD', 'BLR', 'SHA', 'TRV', 'ACC', 'DOH', 'PEW', 'MUX', 'PER', 'IST', 'KUL', 'HYD', 'COK', 'LUN', 'JKT', 'SEZ', 'BSR', 'BKK', 'NBO', 'SEA', 'DFW', 'KRT', 'CMB', 'ADD', 'JED', 'ADL', 'WAS', 'MED', 'RUH', 'MEL', 'ORL', 'BJS', 'DPS', 'LOS', 'CAI', 'CAN', 'BAH', 'DAC', 'KWI', 'DAR', 'CHI', 'MLE', 'ABJ', 'HOU', 'EBB', 'MCT', 'DXB'])\n",
      "71\n",
      "MRU\n"
     ]
    }
   ],
   "source": [
    "create_dictionary(['ORIG','DEST'])\n",
    "convert_to_int(['ORIG','DEST'])"
   ]
  },
  {
   "cell_type": "code",
   "execution_count": 5,
   "metadata": {},
   "outputs": [
    {
     "data": {
      "text/html": [
       "<div>\n",
       "<table border=\"1\" class=\"dataframe\">\n",
       "  <thead>\n",
       "    <tr style=\"text-align: right;\">\n",
       "      <th></th>\n",
       "      <th>ORIG</th>\n",
       "      <th>DEST</th>\n",
       "      <th>SALE_STR_DATE</th>\n",
       "      <th>TRAVEL_STR_DATE</th>\n",
       "      <th>SEASON_STR_DATE</th>\n",
       "      <th>DOW</th>\n",
       "      <th>MIN_STAY_UNIT</th>\n",
       "      <th>MIN_STAY_VAL</th>\n",
       "      <th>MAX_STAY_UNIT</th>\n",
       "      <th>MAX_STAY_VAL</th>\n",
       "      <th>FAREAMT_BC</th>\n",
       "      <th>AP_UNIT</th>\n",
       "      <th>AP_VALUE</th>\n",
       "      <th>RBD</th>\n",
       "    </tr>\n",
       "  </thead>\n",
       "  <tbody>\n",
       "    <tr>\n",
       "      <th>0</th>\n",
       "      <td>71</td>\n",
       "      <td>32</td>\n",
       "      <td>59</td>\n",
       "      <td>59</td>\n",
       "      <td>228</td>\n",
       "      <td>71234.0</td>\n",
       "      <td>1</td>\n",
       "      <td>SUN</td>\n",
       "      <td>M</td>\n",
       "      <td>6</td>\n",
       "      <td>1036</td>\n",
       "      <td>NaN</td>\n",
       "      <td>NaN</td>\n",
       "      <td>B</td>\n",
       "    </tr>\n",
       "    <tr>\n",
       "      <th>1</th>\n",
       "      <td>71</td>\n",
       "      <td>27</td>\n",
       "      <td>144</td>\n",
       "      <td>144</td>\n",
       "      <td>195</td>\n",
       "      <td>4567.0</td>\n",
       "      <td>NaN</td>\n",
       "      <td>NaN</td>\n",
       "      <td>M</td>\n",
       "      <td>12</td>\n",
       "      <td>1744</td>\n",
       "      <td>NaN</td>\n",
       "      <td>NaN</td>\n",
       "      <td>E</td>\n",
       "    </tr>\n",
       "    <tr>\n",
       "      <th>2</th>\n",
       "      <td>84</td>\n",
       "      <td>36</td>\n",
       "      <td>59</td>\n",
       "      <td>59</td>\n",
       "      <td>242</td>\n",
       "      <td>71234.0</td>\n",
       "      <td>NaN</td>\n",
       "      <td>NaN</td>\n",
       "      <td>M</td>\n",
       "      <td>12</td>\n",
       "      <td>1613</td>\n",
       "      <td>NaN</td>\n",
       "      <td>NaN</td>\n",
       "      <td>E</td>\n",
       "    </tr>\n",
       "    <tr>\n",
       "      <th>3</th>\n",
       "      <td>67</td>\n",
       "      <td>5</td>\n",
       "      <td>59</td>\n",
       "      <td>59</td>\n",
       "      <td>186</td>\n",
       "      <td>71234.0</td>\n",
       "      <td>1</td>\n",
       "      <td>SUN</td>\n",
       "      <td>M</td>\n",
       "      <td>6</td>\n",
       "      <td>1374</td>\n",
       "      <td>NaN</td>\n",
       "      <td>NaN</td>\n",
       "      <td>U</td>\n",
       "    </tr>\n",
       "    <tr>\n",
       "      <th>4</th>\n",
       "      <td>81</td>\n",
       "      <td>10</td>\n",
       "      <td>59</td>\n",
       "      <td>59</td>\n",
       "      <td>187</td>\n",
       "      <td>71234.0</td>\n",
       "      <td>1</td>\n",
       "      <td>SUN</td>\n",
       "      <td>M</td>\n",
       "      <td>6</td>\n",
       "      <td>888</td>\n",
       "      <td>NaN</td>\n",
       "      <td>NaN</td>\n",
       "      <td>U</td>\n",
       "    </tr>\n",
       "  </tbody>\n",
       "</table>\n",
       "</div>"
      ],
      "text/plain": [
       "  ORIG DEST  SALE_STR_DATE  TRAVEL_STR_DATE  SEASON_STR_DATE      DOW  \\\n",
       "0   71   32             59               59              228  71234.0   \n",
       "1   71   27            144              144              195   4567.0   \n",
       "2   84   36             59               59              242  71234.0   \n",
       "3   67    5             59               59              186  71234.0   \n",
       "4   81   10             59               59              187  71234.0   \n",
       "\n",
       "  MIN_STAY_UNIT MIN_STAY_VAL MAX_STAY_UNIT  MAX_STAY_VAL  FAREAMT_BC AP_UNIT  \\\n",
       "0             1          SUN             M             6        1036     NaN   \n",
       "1           NaN          NaN             M            12        1744     NaN   \n",
       "2           NaN          NaN             M            12        1613     NaN   \n",
       "3             1          SUN             M             6        1374     NaN   \n",
       "4             1          SUN             M             6         888     NaN   \n",
       "\n",
       "   AP_VALUE RBD  \n",
       "0       NaN   B  \n",
       "1       NaN   E  \n",
       "2       NaN   E  \n",
       "3       NaN   U  \n",
       "4       NaN   U  "
      ]
     },
     "execution_count": 5,
     "metadata": {},
     "output_type": "execute_result"
    }
   ],
   "source": [
    "df.head()"
   ]
  },
  {
   "cell_type": "code",
   "execution_count": 6,
   "metadata": {},
   "outputs": [],
   "source": [
    "df.to_csv('test_100000_convered_places.csv')"
   ]
  },
  {
   "cell_type": "code",
   "execution_count": null,
   "metadata": {
    "collapsed": true
   },
   "outputs": [],
   "source": []
  }
 ],
 "metadata": {
  "kernelspec": {
   "display_name": "Python 2",
   "language": "python",
   "name": "python2"
  },
  "language_info": {
   "codemirror_mode": {
    "name": "ipython",
    "version": 2
   },
   "file_extension": ".py",
   "mimetype": "text/x-python",
   "name": "python",
   "nbconvert_exporter": "python",
   "pygments_lexer": "ipython2",
   "version": "2.7.12"
  }
 },
 "nbformat": 4,
 "nbformat_minor": 2
}
